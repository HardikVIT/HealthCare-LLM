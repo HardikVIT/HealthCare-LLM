{
  "cells": [
    {
      "cell_type": "code",
      "execution_count": 1,
      "metadata": {
        "colab": {
          "base_uri": "https://localhost:8080/"
        },
        "id": "E1i2Mpbefo1B",
        "outputId": "eb7900ae-874b-48a7-e2b4-c14795f74c56"
      },
      "outputs": [
        {
          "output_type": "execute_result",
          "data": {
            "text/plain": [
              "['label_encoder.pkl']"
            ]
          },
          "metadata": {},
          "execution_count": 1
        }
      ],
      "source": [
        "import numpy as np\n",
        "import pandas as pd\n",
        "from sklearn.model_selection import train_test_split\n",
        "from sklearn.ensemble import RandomForestClassifier\n",
        "from sklearn.naive_bayes import GaussianNB\n",
        "from sklearn.tree import DecisionTreeClassifier\n",
        "from sklearn.metrics import accuracy_score\n",
        "from sklearn.preprocessing import LabelEncoder\n",
        "from scipy.stats import mode\n",
        "import joblib\n",
        "\n",
        "# Read data from the CSV file\n",
        "df = pd.read_csv('/content/symptoms_disease.csv')\n",
        "\n",
        "# Fill any missing symptom columns with empty strings (for rows with fewer symptoms)\n",
        "df = df.fillna('')\n",
        "\n",
        "# Combine symptom columns into a single 'Symptoms' column\n",
        "df['Symptoms'] = df['Symptom 1'] + ', ' + df['Symptom 2'] + ', ' + df['Symptom 3']\n",
        "\n",
        "# Split Symptoms into individual features (based on commas)\n",
        "df['Symptoms'] = df['Symptoms'].apply(lambda x: x.split(', '))\n",
        "\n",
        "# One-hot encoding: Transform each symptom into a binary feature\n",
        "all_symptoms = set(symptom for sublist in df['Symptoms'] for symptom in sublist if symptom)\n",
        "for symptom in all_symptoms:\n",
        "    df[symptom] = df['Symptoms'].apply(lambda x: 1 if symptom in x else 0)\n",
        "\n",
        "# Drop the original Symptoms columns as they are no longer needed\n",
        "df.drop(['Symptom 1', 'Symptom 2', 'Symptom 3', 'Symptoms'], axis=1, inplace=True)\n",
        "\n",
        "# Prepare X (features) and y (target)\n",
        "X = df.drop('Disease', axis=1)\n",
        "y = df['Disease']\n",
        "\n",
        "# Encode target variable (Disease) into numerical labels\n",
        "le = LabelEncoder()\n",
        "y_encoded = le.fit_transform(y)\n",
        "\n",
        "# Split the dataset into training and testing sets\n",
        "X_train, X_test, y_train, y_test = train_test_split(X, y_encoded, test_size=0.2, random_state=42)\n",
        "\n",
        "# Initialize the three models\n",
        "random_forest_model = RandomForestClassifier(random_state=42)\n",
        "naive_bayes_model = GaussianNB()\n",
        "decision_tree_model = DecisionTreeClassifier(random_state=42)\n",
        "\n",
        "# Train each model\n",
        "random_forest_model.fit(X_train, y_train)\n",
        "naive_bayes_model.fit(X_train, y_train)\n",
        "decision_tree_model.fit(X_train, y_train)\n",
        "\n",
        "# Test each model\n",
        "rf_pred = random_forest_model.predict(X_test)\n",
        "nb_pred = naive_bayes_model.predict(X_test)\n",
        "dt_pred = decision_tree_model.predict(X_test)\n",
        "\n",
        "# Combine predictions from all models\n",
        "final_predictions = np.array([rf_pred, nb_pred, dt_pred])\n",
        "# Use majority voting to make the final prediction\n",
        "final_majority_vote = mode(final_predictions, axis=0)[0].flatten()\n",
        "\n",
        "# Calculate accuracy for each model\n",
        "rf_accuracy = accuracy_score(y_test, rf_pred)\n",
        "nb_accuracy = accuracy_score(y_test, nb_pred)\n",
        "dt_accuracy = accuracy_score(y_test, dt_pred)\n",
        "majority_vote_accuracy = accuracy_score(y_test, final_majority_vote)\n",
        "# print(rf_accuracy,\" \",nb_accuracy,\" \",dt_accuracy,\" \",majority_vote_accuracy)\n",
        "\n",
        "# Save the models and LabelEncoder for later use in the app\n",
        "joblib.dump(random_forest_model, 'random_forest_model.pkl')\n",
        "joblib.dump(naive_bayes_model, 'naive_bayes_model.pkl')\n",
        "joblib.dump(decision_tree_model, 'decision_tree_model.pkl')\n",
        "joblib.dump(le, 'label_encoder.pkl')\n"
      ]
    },
    {
      "cell_type": "code",
      "execution_count": 2,
      "metadata": {
        "colab": {
          "base_uri": "https://localhost:8080/"
        },
        "id": "1mq8yj8lfo1G",
        "outputId": "c70e9f1a-4e80-4783-e2a0-f516ec592c0f"
      },
      "outputs": [
        {
          "output_type": "stream",
          "name": "stdout",
          "text": [
            "[0, 0, 0, 0, 0, 0, 0, 0, 0, 0, 0, 0, 0, 0, 0, 0, 0, 0, 0, 0, 0, 0, 0, 0, 0, 0, 0, 0, 0, 0, 0, 1, 0, 0, 0, 0, 0, 0, 1, 0, 0, 0, 0, 0, 0, 0, 0, 0, 0, 0, 0, 0, 0, 0, 0, 0, 1, 0, 0, 0, 0, 0, 0, 0, 0, 0, 0, 0, 0, 0, 0, 0, 0, 0]\n",
            "Predicted Disease: Gastroenteritis\n"
          ]
        },
        {
          "output_type": "stream",
          "name": "stderr",
          "text": [
            "/usr/local/lib/python3.11/dist-packages/sklearn/utils/validation.py:2739: UserWarning: X does not have valid feature names, but RandomForestClassifier was fitted with feature names\n",
            "  warnings.warn(\n",
            "/usr/local/lib/python3.11/dist-packages/sklearn/utils/validation.py:2739: UserWarning: X does not have valid feature names, but GaussianNB was fitted with feature names\n",
            "  warnings.warn(\n",
            "/usr/local/lib/python3.11/dist-packages/sklearn/utils/validation.py:2739: UserWarning: X does not have valid feature names, but DecisionTreeClassifier was fitted with feature names\n",
            "  warnings.warn(\n"
          ]
        }
      ],
      "source": [
        "import numpy as np\n",
        "from scipy.stats import mode\n",
        "\n",
        "# Load the saved models and LabelEncoder\n",
        "random_forest_model = joblib.load('random_forest_model.pkl')\n",
        "naive_bayes_model = joblib.load('naive_bayes_model.pkl')\n",
        "decision_tree_model = joblib.load('decision_tree_model.pkl')\n",
        "le = joblib.load('label_encoder.pkl')\n",
        "\n",
        "# List of all symptoms (same set as in training)\n",
        "all_symptoms = [\n",
        "    'Abdominal pain', 'Belly pain', 'Nausea',\n",
        "    'Fever', 'Cough', 'Difficulty breathing',\n",
        "    'Joint pain', 'Fatigue', 'Muscle weakness',\n",
        "    'Chest pain', 'Fast heart rate', 'Shortness of breath',\n",
        "    'Blurred vision', 'Loss of consciousness',\n",
        "    'Bladder discomfort', 'Painful urination', 'Foul smell of urine',\n",
        "    'Jaundice', 'Yellowing of eyes',\n",
        "    'Excessive hunger', 'Unexplained weight loss',\n",
        "    'Acne', 'Blackheads', 'Oily skin',\n",
        "    'Depression', 'Irritability', 'Appetite loss',\n",
        "    'Abdominal pain', 'Diarrhea', 'Vomiting',\n",
        "    'Fatigue', 'Fever', 'Sweating',\n",
        "    'Headache', 'Nausea', 'Sensitivity to light',\n",
        "    'Back pain', 'Leg pain', 'Weakness',\n",
        "    'Ear pain', 'Sore throat', 'Swollen lymph nodes',\n",
        "    'Weight gain', 'Cold intolerance', 'Constipation',\n",
        "    'Rash', 'Itching', 'Swelling',\n",
        "    'Abnormal heart rhythm', 'Dizziness', 'Fainting',\n",
        "    'Dry mouth', 'Increased thirst', 'Frequent urination',\n",
        "    'Knee pain', 'Swelling', 'Stiffness',\n",
        "    'Vomiting', 'Abdominal cramps', 'Bloating',\n",
        "    'Persistent cough', 'Chest tightness', 'Wheezing',\n",
        "    'Fatigue', 'Hair loss', 'Sensitivity to cold',\n",
        "    'Weakness', 'Pale skin', 'Shortness of breath',\n",
        "    'Nausea', 'Vomiting', 'Abdominal swelling',\n",
        "    'Painful joints', 'Skin rash', 'Sun sensitivity',\n",
        "    'Loss of appetite', 'Fatigue', 'Weight loss',\n",
        "    'Frequent urination', 'Increased thirst', 'Blurred vision',\n",
        "    'Fever', 'Red skin', 'Pus discharge',\n",
        "    'Nausea', 'Vomiting', 'Severe headache',\n",
        "    'Redness of eyes', 'Watery discharge', 'Itching',\n",
        "    'Hoarseness', 'Difficulty swallowing', 'Neck swelling'\n",
        "]\n",
        "\n",
        "# Save the all_symptoms list after training\n",
        "joblib.dump(list(all_symptoms), 'all_symptoms_list.pkl')\n",
        "\n",
        "# Function to predict disease based on user-selected symptoms\n",
        "def predict_disease(chosen_symptoms, all_symptoms, X_columns):\n",
        "    # Prepare the input vector for prediction\n",
        "    input_vector = [1 if symptom in chosen_symptoms else 0 for symptom in X_columns]\n",
        "    print(input_vector)\n",
        "    # Predict using the loaded models\n",
        "    rf_pred_new = random_forest_model.predict([input_vector])\n",
        "    nb_pred_new = naive_bayes_model.predict([input_vector])\n",
        "    dt_pred_new = decision_tree_model.predict([input_vector])\n",
        "\n",
        "    # Combine predictions using majority voting\n",
        "    new_final_predictions = np.array([rf_pred_new, nb_pred_new, dt_pred_new])\n",
        "    new_final_majority_vote = mode(new_final_predictions, axis=0)[0].flatten()\n",
        "\n",
        "    # Decode the predicted label back to the disease name\n",
        "    final_disease = le.inverse_transform(new_final_majority_vote)\n",
        "    return final_disease[0]\n",
        "\n",
        "# Example usage in your app:\n",
        "# Let the user choose 3 symptoms\n",
        "chosen_symptoms = ['Abdominal pain','Belly pain','Nausea']  # This would come from user input in your app\n",
        "\n",
        "# Predict the disease based on the symptoms\n",
        "predicted_disease = predict_disease(chosen_symptoms, all_symptoms, X.columns)\n",
        "print(f\"Predicted Disease: {predicted_disease}\")"
      ]
    }
  ],
  "metadata": {
    "kernelspec": {
      "display_name": "Python 3",
      "name": "python3"
    },
    "language_info": {
      "codemirror_mode": {
        "name": "ipython",
        "version": 3
      },
      "file_extension": ".py",
      "mimetype": "text/x-python",
      "name": "python",
      "nbconvert_exporter": "python",
      "pygments_lexer": "ipython3",
      "version": "3.8.0"
    },
    "colab": {
      "provenance": [],
      "gpuType": "T4"
    },
    "accelerator": "GPU"
  },
  "nbformat": 4,
  "nbformat_minor": 0
}